{
 "cells": [
  {
   "cell_type": "code",
   "execution_count": 30,
   "id": "2b66661e-12e6-4f98-bc65-e46ce38d3111",
   "metadata": {},
   "outputs": [],
   "source": [
    "from math import pi, sin, cos\n",
    "import numpy as np\n",
    "\n",
    "def compute_traj_coeffs(initial_state, final_state, tf):\n",
    "    \"\"\"\n",
    "    Inputs:\n",
    "        initial_state (State)\n",
    "        final_state (State)\n",
    "        tf (float) final time\n",
    "    Output:\n",
    "        coeffs (np.array shape [8]), coefficients on the basis functions\n",
    "\n",
    "    Hint: Use the np.linalg.solve function.\n",
    "    \"\"\"\n",
    "    ########## Code starts here ##########\n",
    "    t_init = 0\n",
    "    t_final = tf\n",
    "    x_init, y_init, V_init, theta_init = initial_state\n",
    "    x_final, y_final, V_final, theta_final = final_state\n",
    "    \n",
    "    A1 = np.array([[1, t_init, t_init**2, t_init**3],\n",
    "                  [0, 1, 2*t_init, 3*(t_init**2)],\n",
    "                  [1, t_final, t_final**2, t_final**3],\n",
    "                  [0, 1, 2*t_final, 3*(t_final**2)]])\n",
    "    b1 = [x_init, V_init*cos(theta_init), x_final, V_init*cos(theta_final)]\n",
    "    \n",
    "    A2 = np.array([[1, t_init, t_init**2, t_init**3],\n",
    "                  [0, 1, 2*t_init, 3*(t_init**2)],\n",
    "                  [1, t_final, t_final**2, t_final**3],\n",
    "                  [0, 1, 2*t_final, 3*(t_final**2)]])\n",
    "    b2 = [x_init, V_init*sin(theta_init), x_final, V_init*sin(theta_final)]\n",
    "    \n",
    "    print(\"b1\", b1)\n",
    "    print(\"b2\", b2)\n",
    "    \n",
    "    x = np.linalg.solve(A1,b1)\n",
    "    y = np.linalg.solve(A2,b2)\n",
    "\n",
    "    print(\"x\",x)\n",
    "    print(\"y\", y)\n",
    "    \n",
    "    coeffs = np.concatenate((x, y))\n",
    "    \n",
    "    ########## Code ends here ##########\n",
    "    return coeffs"
   ]
  },
  {
   "cell_type": "code",
   "execution_count": 31,
   "id": "484ebdb0-de63-48a0-b809-9aeb9db9a37e",
   "metadata": {},
   "outputs": [
    {
     "name": "stdout",
     "output_type": "stream",
     "text": [
      "b1 [0.0, 3.061616997868383e-17, 5.0, 3.061616997868383e-17]\n",
      "b2 [0.0, -0.5, 5.0, -0.5]\n",
      "x [ 0.00000000e+00  1.38777878e-17  6.66666667e-02 -2.96296296e-03]\n",
      "y [ 0.         -0.5         0.16666667 -0.00740741]\n",
      "[ 0.00000000e+00  1.38777878e-17  6.66666667e-02 -2.96296296e-03\n",
      "  0.00000000e+00 -5.00000000e-01  1.66666667e-01 -7.40740741e-03]\n"
     ]
    }
   ],
   "source": [
    "\n",
    "\n",
    "x_init = 0.0\n",
    "y_init = 0.0\n",
    "V_init = 0.5\n",
    "theta_init = -pi/2 \n",
    "\n",
    "x_final = 5.0\n",
    "y_final = 5.0\n",
    "V_final = 0.5\n",
    "theta_final = -pi/2 \n",
    "\n",
    "initial_state = np.array([x_init, y_init, V_init, theta_init])\n",
    "final_state = np.array([x_final, y_final, V_final, theta_final])\n",
    "\n",
    "tf = 15\n",
    "\n",
    "coeffs = compute_traj_coeffs(initial_state, final_state, tf)\n",
    "print(coeffs)"
   ]
  },
  {
   "cell_type": "code",
   "execution_count": 54,
   "id": "c83520dd-8531-4ddc-a612-0d2b64e6044c",
   "metadata": {},
   "outputs": [],
   "source": [
    "x_of_t = lambda t_i: np.dot(coeffs[0:4],np.array([1, t_i, t_i**2, t_i**3], dtype=float)) \n",
    "y_of_t = lambda t_i: np.dot(coeffs[4:8],np.array([1, t_i, t_i**2, t_i**3], dtype=float)) \n"
   ]
  },
  {
   "cell_type": "code",
   "execution_count": 55,
   "id": "c6ab0725-fdbc-4a2f-ab74-12727cb6527c",
   "metadata": {},
   "outputs": [
    {
     "name": "stdout",
     "output_type": "stream",
     "text": [
      "[0.         0.0637037  0.24296296]\n",
      "[ 0.         -0.34074074 -0.39259259]\n"
     ]
    }
   ],
   "source": [
    "t_i = np.array([0,1,2], dtype=float)\n",
    "\n",
    "x_result = np.array(list((map(x_of_t, t_i))))\n",
    "print(x_result)\n",
    "\n",
    "y_result = np.array(list((map(y_of_t, t_i))))\n",
    "print(y_result)"
   ]
  },
  {
   "cell_type": "code",
   "execution_count": 59,
   "id": "3018dfcc-ef8a-4ee7-9e09-e7d153689c6a",
   "metadata": {},
   "outputs": [
    {
     "data": {
      "text/plain": [
       "0.0"
      ]
     },
     "execution_count": 59,
     "metadata": {},
     "output_type": "execute_result"
    }
   ],
   "source": [
    "math.atan(t_i[0])"
   ]
  },
  {
   "cell_type": "code",
   "execution_count": 57,
   "id": "31048c74-0144-420e-a16d-22bd8e2ea3b7",
   "metadata": {},
   "outputs": [],
   "source": [
    "import math"
   ]
  },
  {
   "cell_type": "code",
   "execution_count": 60,
   "id": "7f2f11c1-5a95-402e-a75f-452b52b97130",
   "metadata": {},
   "outputs": [
    {
     "data": {
      "text/plain": [
       "array([0.        , 0.78539816, 1.10714872])"
      ]
     },
     "execution_count": 60,
     "metadata": {},
     "output_type": "execute_result"
    }
   ],
   "source": [
    "np.array(list((map(math.atan, t_i))))"
   ]
  },
  {
   "cell_type": "code",
   "execution_count": 73,
   "id": "edfb99ed-c89d-4732-a249-edf0f410d72f",
   "metadata": {},
   "outputs": [],
   "source": [
    "def compute_traj(coeffs, tf, N):\n",
    "    \"\"\"\n",
    "    Inputs:\n",
    "        coeffs (np.array shape [8]), coefficients on the basis functions\n",
    "        tf (float) final_time\n",
    "        N (int) number of points\n",
    "    Output:\n",
    "        traj (np.array shape [N,7]), N points along the trajectory, from t=0\n",
    "            to t=tf, evenly spaced in time\n",
    "    \"\"\"\n",
    "    t = np.linspace(0,tf,N) # generate evenly spaced points from 0 to tf\n",
    "    traj = np.zeros((N,7))\n",
    "    ########## Code starts here ##########\n",
    "    x_of_t = lambda t_i: np.dot(coeffs[:4],np.array([1, t_i, t_i**2, t_i**3], dtype=float)) \n",
    "    y_of_t = lambda t_i: np.dot(coeffs[4:],np.array([1, t_i, t_i**2, t_i**3], dtype=float)) \n",
    "    dx_of_t_dt = lambda t_i: np.dot(coeffs[:4],np.array([0, 1, 2*t_i, 3*(t_i**2)], dtype=float)) \n",
    "    dy_of_t_dt = lambda t_i: np.dot(coeffs[4:],np.array([0, 1, 2*t_i, 3*(t_i**2)], dtype=float)) \n",
    "    d2x_of_t_dt2 = lambda t_i: np.dot(coeffs[:4],np.array([0, 0, 2, 6*t_i], dtype=float)) \n",
    "    d2y_of_t_dt2 = lambda t_i: np.dot(coeffs[4:],np.array([0, 0, 2, 6*t_i], dtype=float))\n",
    "    \n",
    "    x = np.array(list((map(x_of_t, t))))\n",
    "    y = np.array(list((map(y_of_t, t))))\n",
    "    theta = np.array(list((map(math.atan, t))))\n",
    "    dxdt = np.array(list((map(dx_of_t_dt, t))))\n",
    "    dydt = np.array(list((map(dy_of_t_dt, t))))\n",
    "    d2xdt2 = np.array(list((map(d2x_of_t_dt2, t))))\n",
    "    d2ydt2 = np.array(list((map(d2y_of_t_dt2, t))))\n",
    "\n",
    "    traj[:,0] = x\n",
    "    traj[:,1] = y\n",
    "    traj[:,2] = theta\n",
    "    traj[:,3] = dxdt\n",
    "    traj[:,4] = dydt\n",
    "    traj[:,5] = d2xdt2\n",
    "    traj[:,6] = d2ydt2\n",
    "    ########## Code ends here ##########\n",
    "\n",
    "    return t, traj"
   ]
  },
  {
   "cell_type": "code",
   "execution_count": 75,
   "id": "29e5de4d-3672-4bc4-999b-6bdbab3e07db",
   "metadata": {},
   "outputs": [
    {
     "data": {
      "text/plain": [
       "array([[ 0.00000000e+00,  0.00000000e+00,  0.00000000e+00,\n",
       "         1.38777878e-17, -5.00000000e-01,  1.33333333e-01,\n",
       "         3.33333333e-01],\n",
       "       [ 2.50000000e+00,  2.50000000e+00,  1.43824479e+00,\n",
       "         5.00000000e-01,  7.50000000e-01,  0.00000000e+00,\n",
       "        -5.55111512e-17],\n",
       "       [ 5.00000000e+00,  5.00000000e+00,  1.50422816e+00,\n",
       "         1.38777878e-17, -5.00000000e-01, -1.33333333e-01,\n",
       "        -3.33333333e-01]])"
      ]
     },
     "execution_count": 75,
     "metadata": {},
     "output_type": "execute_result"
    }
   ],
   "source": [
    "t, traj = compute_traj(coeffs=coeffs, tf=15, N=3)\n",
    "traj"
   ]
  },
  {
   "cell_type": "code",
   "execution_count": 155,
   "id": "3075a7a6-97a0-43c8-9c1d-38e21b879bc4",
   "metadata": {},
   "outputs": [],
   "source": [
    "def compute_controls(traj):\n",
    "    \"\"\"\n",
    "    Input:\n",
    "        traj (np.array shape [N,7])\n",
    "    Outputs:\n",
    "        V (np.array shape [N]) V at each point of traj\n",
    "        om (np.array shape [N]) om at each point of traj\n",
    "    \"\"\"\n",
    "    ########## Code starts here ##########\n",
    "    N = np.shape(traj)[0]\n",
    "    theta = traj[:,2] \n",
    "    dxdt  = traj[:,3] \n",
    "    dydt  = traj[:,4] \n",
    "    V = np.sqrt(np.square(dxdt) + np.square(dydt))\n",
    "    \n",
    "    Jinv = np.zeros((N,2,2))\n",
    "    Jinv[:,0,0] = np.cos(theta)\n",
    "    Jinv[:,0,1] = np.sin(theta)\n",
    "    Jinv[:,1,0] = -np.sin(theta)/V\n",
    "    Jinv[:,1,1] = np.cos(theta)/V\n",
    "    \n",
    "    d2xdt2 = traj[:,5]\n",
    "    d2ydt2 = traj[:,6]\n",
    "    \n",
    "    d2dt2 = np.reshape(np.vstack((d2xdt2,d2ydt2)).T, (N,2,1))\n",
    "    control_histories = np.matmul(Jinv,d2dt2)\n",
    "    om = np.squeeze(control_histories[:,1])\n",
    "    ########## Code ends here ##########\n",
    "\n",
    "    return V, om"
   ]
  },
  {
   "cell_type": "code",
   "execution_count": 149,
   "id": "c5348405-0186-4c1d-8497-b179e1a86482",
   "metadata": {},
   "outputs": [
    {
     "data": {
      "text/plain": [
       "array([[2.],\n",
       "       [2.],\n",
       "       [2.],\n",
       "       [2.],\n",
       "       [2.]])"
      ]
     },
     "execution_count": 149,
     "metadata": {},
     "output_type": "execute_result"
    }
   ],
   "source": [
    "A = np.ones((5,2,2))\n",
    "x = np.ones((5,2,1))\n",
    "\n",
    "np.matmul(A,x)[:,0]"
   ]
  },
  {
   "cell_type": "code",
   "execution_count": 129,
   "id": "32464f07-0a35-4304-be01-dca4d16b6f4d",
   "metadata": {},
   "outputs": [
    {
     "data": {
      "text/plain": [
       "array([[[ 1.33333333e-01,  0.00000000e+00]],\n",
       "\n",
       "       [[-1.33333333e-01,  3.33333333e-01]],\n",
       "\n",
       "       [[-5.55111512e-17, -3.33333333e-01]]])"
      ]
     },
     "execution_count": 129,
     "metadata": {},
     "output_type": "execute_result"
    }
   ],
   "source": [
    "np.reshape(np.vstack((d2xdt2,d2ydt2)), (N,1,2))"
   ]
  },
  {
   "cell_type": "code",
   "execution_count": 140,
   "id": "e16c5ba2-8026-49da-a772-f757aa01130e",
   "metadata": {},
   "outputs": [
    {
     "data": {
      "text/plain": [
       "array([ 0.13333333,  0.        , -0.13333333])"
      ]
     },
     "execution_count": 140,
     "metadata": {},
     "output_type": "execute_result"
    }
   ],
   "source": [
    "d2xdt2"
   ]
  },
  {
   "cell_type": "code",
   "execution_count": 141,
   "id": "e61f3ad8-26d0-4d94-a84d-f36f4b9c9578",
   "metadata": {},
   "outputs": [
    {
     "data": {
      "text/plain": [
       "array([ 3.33333333e-01, -5.55111512e-17, -3.33333333e-01])"
      ]
     },
     "execution_count": 141,
     "metadata": {},
     "output_type": "execute_result"
    }
   ],
   "source": [
    "d2ydt2"
   ]
  },
  {
   "cell_type": "code",
   "execution_count": 142,
   "id": "95b5f975-4a78-4cdf-aea8-1de43d5041ea",
   "metadata": {},
   "outputs": [
    {
     "data": {
      "text/plain": [
       "array([[[ 1.33333333e-01],\n",
       "        [ 3.33333333e-01]],\n",
       "\n",
       "       [[ 0.00000000e+00],\n",
       "        [-5.55111512e-17]],\n",
       "\n",
       "       [[-1.33333333e-01],\n",
       "        [-3.33333333e-01]]])"
      ]
     },
     "execution_count": 142,
     "metadata": {},
     "output_type": "execute_result"
    }
   ],
   "source": [
    "np.reshape(np.vstack((d2xdt2,d2ydt2)).T, (N,2,1))"
   ]
  },
  {
   "cell_type": "code",
   "execution_count": 151,
   "id": "0e507b91-6dfa-4db5-ae6a-2075f12c1696",
   "metadata": {},
   "outputs": [
    {
     "data": {
      "text/plain": [
       "array([[ 0.00000000e+00,  0.00000000e+00,  0.00000000e+00,\n",
       "         1.38777878e-17, -5.00000000e-01,  1.33333333e-01,\n",
       "         3.33333333e-01],\n",
       "       [ 2.50000000e+00,  2.50000000e+00,  1.43824479e+00,\n",
       "         5.00000000e-01,  7.50000000e-01,  0.00000000e+00,\n",
       "        -5.55111512e-17],\n",
       "       [ 5.00000000e+00,  5.00000000e+00,  1.50422816e+00,\n",
       "         1.38777878e-17, -5.00000000e-01, -1.33333333e-01,\n",
       "        -3.33333333e-01]])"
      ]
     },
     "execution_count": 151,
     "metadata": {},
     "output_type": "execute_result"
    }
   ],
   "source": [
    "traj"
   ]
  },
  {
   "cell_type": "code",
   "execution_count": 156,
   "id": "a539f993-f2bf-4ab0-aa0b-3615c89435a7",
   "metadata": {},
   "outputs": [],
   "source": [
    "V, om = compute_controls(traj)"
   ]
  },
  {
   "cell_type": "code",
   "execution_count": 157,
   "id": "7b51b6dd-2de2-4286-88cf-1b60c9949327",
   "metadata": {},
   "outputs": [
    {
     "data": {
      "text/plain": [
       "array([0.5       , 0.90138782, 0.5       ])"
      ]
     },
     "execution_count": 157,
     "metadata": {},
     "output_type": "execute_result"
    }
   ],
   "source": [
    "V"
   ]
  },
  {
   "cell_type": "code",
   "execution_count": 158,
   "id": "cf70708e-23df-49af-9c93-0a839cd12be4",
   "metadata": {},
   "outputs": [
    {
     "data": {
      "text/plain": [
       "array([ 6.66666667e-01, -8.13918282e-18,  2.21730035e-01])"
      ]
     },
     "execution_count": 158,
     "metadata": {},
     "output_type": "execute_result"
    }
   ],
   "source": [
    "om"
   ]
  },
  {
   "cell_type": "code",
   "execution_count": null,
   "id": "67aa616e-5939-4a19-9ed2-69c898f4a7f4",
   "metadata": {},
   "outputs": [],
   "source": []
  }
 ],
 "metadata": {
  "kernelspec": {
   "display_name": "Python 3 (ipykernel)",
   "language": "python",
   "name": "python3"
  },
  "language_info": {
   "codemirror_mode": {
    "name": "ipython",
    "version": 3
   },
   "file_extension": ".py",
   "mimetype": "text/x-python",
   "name": "python",
   "nbconvert_exporter": "python",
   "pygments_lexer": "ipython3",
   "version": "3.8.11"
  }
 },
 "nbformat": 4,
 "nbformat_minor": 5
}
