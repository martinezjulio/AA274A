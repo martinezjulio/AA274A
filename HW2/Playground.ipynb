{
 "cells": [
  {
   "cell_type": "code",
   "execution_count": null,
   "id": "8f9221bc",
   "metadata": {},
   "outputs": [],
   "source": [
    "def find_nearest(V, x):\n",
    "        \"\"\"\n",
    "        Given a list of states V and a query state x, returns the index (row)\n",
    "        of V such that the steering distance (subject to robot dynamics) from\n",
    "        V[i] to x is minimized\n",
    "\n",
    "        Inputs:\n",
    "            V: list/np.array of states (\"samples\")\n",
    "            x - query state\n",
    "        Output:\n",
    "            Integer index of nearest point in V to x\n",
    "        \"\"\"\n",
    "        #raise NotImplementedError(\"find_nearest must be overriden by a subclass of RRT\")\n",
    "        query_state_x = np.array(x)\n",
    "        states_V = np.array(V)\n",
    "        dist = np.linalg.norm(states_V-query_state_x, axis=1)\n",
    "        nearest_index = np.argmax(dist)\n",
    "        return nearest_index"
   ]
  },
  {
   "cell_type": "code",
   "execution_count": 19,
   "id": "b5232a20",
   "metadata": {},
   "outputs": [],
   "source": [
    "def rescale_V(V, om, V_max, om_max):\n",
    "    \"\"\"\n",
    "    This function computes V_tilde, given the unconstrained solution V, and om.\n",
    "    Inputs:\n",
    "        V: vector of velocities of length T. Solution from the unconstrained,\n",
    "            differential flatness problem.\n",
    "        om: vector of angular velocities of length T. Solution from the\n",
    "            unconstrained, differential flatness problem.\n",
    "    Output:\n",
    "        V_tilde: Rescaled velocity that satisfies the control constraints.\n",
    "\n",
    "    Hint: At each timestep V_tilde should be computed as a minimum of the\n",
    "    original value V, and values required to ensure _both_ constraints are\n",
    "    satisfied.\n",
    "    Hint: This should only take one or two lines.\n",
    "    \"\"\"\n",
    "    ########## Code starts here ##########\n",
    "    V_candidates = np.stack((V,np.ones(len(V)).astype(float)*V_max, om_max*V/om))\n",
    "    print(\"V\",V)\n",
    "    print(\"V_candidates\", V_candidates)\n",
    "    print(\"V_max\", V_max)\n",
    "    print(\"om_max\", om_max)\n",
    "    \n",
    "    V_tilde_indexes = np.argmin(np.absolute(V_candidates),axis=0)\n",
    "    \n",
    "    print(\"V_tilde_indexes\", V_tilde_indexes)\n",
    "    \n",
    "    V_tilde = V_candidates[V_tilde_indexes, np.arange(len(V))]\n",
    "    \n",
    "    print(\"V_tilde\", V_tilde)\n",
    "    ########## Code ends here ##########\n",
    "    return V_tilde"
   ]
  },
  {
   "cell_type": "code",
   "execution_count": 22,
   "id": "1f3b28b2",
   "metadata": {},
   "outputs": [],
   "source": [
    "V = np.random.uniform(low=-10,high=10,size=4)\n",
    "om = np.random.uniform(low=-5,high=5,size=4)\n",
    "V_max = 5\n",
    "om_max = 1.0\n"
   ]
  },
  {
   "cell_type": "code",
   "execution_count": 23,
   "id": "765dc021",
   "metadata": {},
   "outputs": [
    {
     "name": "stdout",
     "output_type": "stream",
     "text": [
      "V [-0.37091501  9.02651829  7.10857233 -3.81346982]\n",
      "V_candidates [[ -0.37091501   9.02651829   7.10857233  -3.81346982]\n",
      " [  5.           5.           5.           5.        ]\n",
      " [  0.20746858 -13.05028852   2.19675396   1.02802064]]\n",
      "V_max 5\n",
      "om_max 1.0\n",
      "V_tilde_indexes [2 1 2 2]\n",
      "V_tilde [0.20746858 5.         2.19675396 1.02802064]\n"
     ]
    },
    {
     "data": {
      "text/plain": [
       "array([0.20746858, 5.        , 2.19675396, 1.02802064])"
      ]
     },
     "execution_count": 23,
     "metadata": {},
     "output_type": "execute_result"
    }
   ],
   "source": [
    "rescale_V(V, om, V_max, om_max)"
   ]
  },
  {
   "cell_type": "code",
   "execution_count": null,
   "id": "f70f9fba",
   "metadata": {},
   "outputs": [],
   "source": [
    "import numpy as np\n",
    "V = np.random.rand(1000,2)\n",
    "V\n",
    "\n",
    "x = (0.25, 0.45)\n",
    "x\n",
    "\n",
    "find_nearest(V, x)"
   ]
  },
  {
   "cell_type": "code",
   "execution_count": null,
   "id": "cf0e60df",
   "metadata": {},
   "outputs": [],
   "source": [
    "import numpy as np"
   ]
  },
  {
   "cell_type": "code",
   "execution_count": null,
   "id": "8d800809",
   "metadata": {},
   "outputs": [],
   "source": [
    "np.random.uniform(low=[0,30],high=[10,40],size=2)"
   ]
  },
  {
   "cell_type": "code",
   "execution_count": null,
   "id": "d4957751",
   "metadata": {},
   "outputs": [],
   "source": [
    "x = [1,2,3,4,5]"
   ]
  },
  {
   "cell_type": "code",
   "execution_count": null,
   "id": "90abddf2",
   "metadata": {},
   "outputs": [],
   "source": [
    "np.flip(x)"
   ]
  },
  {
   "cell_type": "code",
   "execution_count": 4,
   "id": "af929391",
   "metadata": {},
   "outputs": [
    {
     "data": {
      "text/plain": [
       "array([0, 5])"
      ]
     },
     "execution_count": 4,
     "metadata": {},
     "output_type": "execute_result"
    }
   ],
   "source": [
    "t_init = 0\n",
    "t_f = 10\n",
    "dt = \n",
    "np.arange(t_init, t_f, dt)"
   ]
  },
  {
   "cell_type": "code",
   "execution_count": 2,
   "id": "9fbaa4d1",
   "metadata": {},
   "outputs": [],
   "source": [
    "import numpy as np"
   ]
  },
  {
   "cell_type": "code",
   "execution_count": 5,
   "id": "3244459b",
   "metadata": {},
   "outputs": [
    {
     "data": {
      "text/plain": [
       "3.605551275463989"
      ]
     },
     "execution_count": 5,
     "metadata": {},
     "output_type": "execute_result"
    }
   ],
   "source": [
    "np.linalg.norm([2,3])"
   ]
  },
  {
   "cell_type": "code",
   "execution_count": 6,
   "id": "f84961ab",
   "metadata": {},
   "outputs": [
    {
     "data": {
      "text/plain": [
       "3.605551275463989"
      ]
     },
     "execution_count": 6,
     "metadata": {},
     "output_type": "execute_result"
    }
   ],
   "source": [
    "np.sqrt(2**2 + 3**2)"
   ]
  },
  {
   "cell_type": "code",
   "execution_count": 24,
   "id": "368f98ff",
   "metadata": {},
   "outputs": [],
   "source": [
    "x_d = np.ones(5)\n",
    "y_d = np.ones(5)"
   ]
  },
  {
   "cell_type": "code",
   "execution_count": 25,
   "id": "ecb10370",
   "metadata": {},
   "outputs": [],
   "source": [
    "xy_d = np.stack([x_d, y_d]).transpose()\n",
    "theta_d = np.arccos(x_d/np.linalg.norm(xy,axis=1))"
   ]
  },
  {
   "cell_type": "code",
   "execution_count": 26,
   "id": "38cc9bb2",
   "metadata": {},
   "outputs": [
    {
     "data": {
      "text/plain": [
       "array([0.78539816, 0.78539816, 0.78539816, 0.78539816, 0.78539816])"
      ]
     },
     "execution_count": 26,
     "metadata": {},
     "output_type": "execute_result"
    }
   ],
   "source": [
    "theta_d"
   ]
  },
  {
   "cell_type": "code",
   "execution_count": 10,
   "id": "5b5128d8",
   "metadata": {},
   "outputs": [],
   "source": [
    "import numpy as np\n",
    "x = np.ones(5)*10\n",
    "y = np.ones(5)*2\n",
    "max_x = 10\n",
    "max_y = 3\n",
    "candidates = np.vstack((x,y,max_x*x/y))\n",
    "temp = np.argmin(candidates,axis=0)"
   ]
  },
  {
   "cell_type": "code",
   "execution_count": 11,
   "id": "00a2f455",
   "metadata": {},
   "outputs": [
    {
     "data": {
      "text/plain": [
       "array([[10., 10., 10., 10., 10.],\n",
       "       [ 2.,  2.,  2.,  2.,  2.],\n",
       "       [50., 50., 50., 50., 50.]])"
      ]
     },
     "execution_count": 11,
     "metadata": {},
     "output_type": "execute_result"
    }
   ],
   "source": [
    "candidates"
   ]
  },
  {
   "cell_type": "code",
   "execution_count": 12,
   "id": "ae4a96e7",
   "metadata": {},
   "outputs": [
    {
     "data": {
      "text/plain": [
       "array([1, 1, 1, 1, 1])"
      ]
     },
     "execution_count": 12,
     "metadata": {},
     "output_type": "execute_result"
    }
   ],
   "source": [
    "temp"
   ]
  },
  {
   "cell_type": "code",
   "execution_count": 4,
   "id": "bcb0ee28",
   "metadata": {},
   "outputs": [
    {
     "data": {
      "text/plain": [
       "2"
      ]
     },
     "execution_count": 4,
     "metadata": {},
     "output_type": "execute_result"
    }
   ],
   "source": [
    "candidates[np.arange(len(a)), np.arange(candidates.shape[1])]"
   ]
  },
  {
   "cell_type": "code",
   "execution_count": 2,
   "id": "5f0e0011",
   "metadata": {},
   "outputs": [],
   "source": [
    "import numpy as np"
   ]
  },
  {
   "cell_type": "code",
   "execution_count": 5,
   "id": "0b69b299",
   "metadata": {},
   "outputs": [
    {
     "data": {
      "text/plain": [
       "array([2, 2, 2, 2, 2, 1, 2])"
      ]
     },
     "execution_count": 5,
     "metadata": {},
     "output_type": "execute_result"
    }
   ],
   "source": [
    "np.clip([2,3,4,6,3,1,2], -2 ,2 )"
   ]
  },
  {
   "cell_type": "code",
   "execution_count": 10,
   "id": "3c9aefdb",
   "metadata": {},
   "outputs": [],
   "source": [
    "def wrapToPi(a):\n",
    "    if isinstance(a, list):    # backwards compatibility for lists (distinct from np.array)\n",
    "        return [(x + np.pi) % (2*np.pi) - np.pi for x in a]\n",
    "    return (a + np.pi) % (2*np.pi) - np.pi"
   ]
  },
  {
   "cell_type": "code",
   "execution_count": 7,
   "id": "1d6cf372",
   "metadata": {},
   "outputs": [
    {
     "data": {
      "text/plain": [
       "3.141592653589793"
      ]
     },
     "execution_count": 7,
     "metadata": {},
     "output_type": "execute_result"
    }
   ],
   "source": [
    "np.pi"
   ]
  },
  {
   "cell_type": "code",
   "execution_count": 8,
   "id": "d0d19bc8",
   "metadata": {},
   "outputs": [
    {
     "data": {
      "text/plain": [
       "6.283185307179586"
      ]
     },
     "execution_count": 8,
     "metadata": {},
     "output_type": "execute_result"
    }
   ],
   "source": [
    "2*np.pi"
   ]
  },
  {
   "cell_type": "code",
   "execution_count": 16,
   "id": "6057d581",
   "metadata": {},
   "outputs": [
    {
     "data": {
      "text/plain": [
       "-3.133185307179586"
      ]
     },
     "execution_count": 16,
     "metadata": {},
     "output_type": "execute_result"
    }
   ],
   "source": [
    "wrapToPi(3.15)"
   ]
  },
  {
   "cell_type": "code",
   "execution_count": 17,
   "id": "95311243",
   "metadata": {},
   "outputs": [
    {
     "data": {
      "text/plain": [
       "-0.5063656411097588"
      ]
     },
     "execution_count": 17,
     "metadata": {},
     "output_type": "execute_result"
    }
   ],
   "source": [
    "np.sin(100)"
   ]
  },
  {
   "cell_type": "code",
   "execution_count": 21,
   "id": "39a0c889",
   "metadata": {},
   "outputs": [
    {
     "name": "stdout",
     "output_type": "stream",
     "text": [
      "x1: 0.2836621854632263\n",
      "x2: 0.28366218546322647\n"
     ]
    }
   ],
   "source": [
    "alpha = 5\n",
    "\n",
    "x1 = np.cos(alpha)\n",
    "x2 = np.cos(wrapToPi(alpha))\n",
    "\n",
    "print(\"x1:\", x1)\n",
    "\n",
    "print(\"x2:\", x2)"
   ]
  },
  {
   "cell_type": "code",
   "execution_count": null,
   "id": "eec42c12",
   "metadata": {},
   "outputs": [],
   "source": [
    "V_candidates = np.stack((V,np.ones(len(V)).astype(float)*V_max, om_max*V/om))"
   ]
  },
  {
   "cell_type": "code",
   "execution_count": 1,
   "id": "6ae27037",
   "metadata": {},
   "outputs": [],
   "source": [
    "x = [5,1,10,15,0,5,7]"
   ]
  },
  {
   "cell_type": "code",
   "execution_count": 5,
   "id": "c0674e83",
   "metadata": {},
   "outputs": [
    {
     "data": {
      "text/plain": [
       "4"
      ]
     },
     "execution_count": 5,
     "metadata": {},
     "output_type": "execute_result"
    }
   ],
   "source": [
    "import numpy as np\n",
    "np.argmin(x)"
   ]
  },
  {
   "cell_type": "code",
   "execution_count": null,
   "id": "2dd8e22e",
   "metadata": {},
   "outputs": [],
   "source": []
  }
 ],
 "metadata": {
  "kernelspec": {
   "display_name": "Python 3 (ipykernel)",
   "language": "python",
   "name": "python3"
  },
  "language_info": {
   "codemirror_mode": {
    "name": "ipython",
    "version": 3
   },
   "file_extension": ".py",
   "mimetype": "text/x-python",
   "name": "python",
   "nbconvert_exporter": "python",
   "pygments_lexer": "ipython3",
   "version": "3.8.11"
  }
 },
 "nbformat": 4,
 "nbformat_minor": 5
}
